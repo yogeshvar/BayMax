{
 "cells": [
  {
   "cell_type": "code",
   "execution_count": 2,
   "metadata": {},
   "outputs": [
    {
     "name": "stderr",
     "output_type": "stream",
     "text": [
      "Some weights of the model checkpoint at /Users/mags/Research/PARTNER/output/GPT2.1e-05.2.0gpu.2023-05-31164902/ were not used when initializing GPT2LMHeadModel: ['position_classifier.dense.bias', 'position_classifier.dense.weight', 'position_classifier.out_proj.bias', 'position_classifier.out_proj.weight']\n",
      "- This IS expected if you are initializing GPT2LMHeadModel from the checkpoint of a model trained on another task or with another architecture (e.g. initializing a BertForSequenceClassification model from a BertForPreTraining model).\n",
      "- This IS NOT expected if you are initializing GPT2LMHeadModel from the checkpoint of a model that you expect to be exactly identical (initializing a BertForSequenceClassification model from a BertForSequenceClassification model).\n"
     ]
    }
   ],
   "source": [
    "from transformers import AutoTokenizer, AutoModelForCausalLM\n",
    "import torch\n",
    "\n",
    "tokenizer = AutoTokenizer.from_pretrained(\"Yogeshvars/BayMaxChat\")\n",
    "model = AutoModelForCausalLM.from_pretrained(\"Yogeshvars/BayMaxChat\")\n",
    "baymax_model_checkpoint = AutoModelForCausalLM.from_pretrained('./GPT2.1e-05.2.0gpu.2023-05-31164902/')"
   ]
  },
  {
   "attachments": {},
   "cell_type": "markdown",
   "metadata": {},
   "source": [
    "### Just Sample "
   ]
  },
  {
   "cell_type": "code",
   "execution_count": 4,
   "metadata": {},
   "outputs": [
    {
     "name": "stderr",
     "output_type": "stream",
     "text": [
      "A decoder-only architecture is being used, but right-padding was detected! For correct generation results, please set `padding_side='left'` when initializing the tokenizer.\n"
     ]
    },
    {
     "name": "stdout",
     "output_type": "stream",
     "text": [
      "Input: i feel so alone, i have no friends\n",
      "BayMax:  I feel you. I have a friend that is like that and it can be really tough.\n"
     ]
    }
   ],
   "source": [
    "chat_history = []\n",
    "input_text = input(\"User: \")\n",
    "new_user_input_ids = tokenizer.encode(input_text + tokenizer.eos_token, return_tensors='pt')\n",
    "bot_input_ids = torch.cat([chat_history, new_user_input_ids], dim=-1) if len(chat_history) > 0 else new_user_input_ids\n",
    "chat_history_ids = model.generate(\n",
    "    bot_input_ids, max_length=200,\n",
    "    pad_token_id=tokenizer.eos_token_id,  \n",
    "    no_repeat_ngram_size=3,       \n",
    "    do_sample=True, \n",
    "    top_k=100, \n",
    "    top_p=0.7,\n",
    "    temperature=0.8\n",
    ")\n",
    "print(\"Input: {}\".format(input_text))\n",
    "print(\"BayMax: {}\".format(tokenizer.decode(chat_history_ids[:, bot_input_ids.shape[-1]:][0], skip_special_tokens=True)))"
   ]
  },
  {
   "attachments": {},
   "cell_type": "markdown",
   "metadata": {},
   "source": [
    "### EPIOME Sample"
   ]
  },
  {
   "cell_type": "code",
   "execution_count": 5,
   "metadata": {},
   "outputs": [],
   "source": [
    "import sys\n",
    "sys.path.insert(0, '/Users/mags/Research/PARTNER/src/')\n",
    "from lsp_model_rl.rewards import calc_rewards, calc_coherence_score"
   ]
  },
  {
   "cell_type": "code",
   "execution_count": 6,
   "metadata": {},
   "outputs": [
    {
     "name": "stdout",
     "output_type": "stream",
     "text": [
      "0.5360442399978638\n",
      "0.28044718503952026\n"
     ]
    }
   ],
   "source": [
    "original_post = [\"I don't feel so great today. I need a friend to talk to.\"]\n",
    "original_responses = [\"I'm here for you.\",]\n",
    "generated_response = [\"I am here for you. Let's talk about what's been on your mind and see how we can make you feel better.\"]\n",
    "# stupid responses\n",
    "generated_response1 = [\"Why are you happy today? I don't know what to do\"]\n",
    "\n",
    "# coherence \n",
    "coherence_score = calc_coherence_score(original_responses, generated_response[0])\n",
    "\n",
    "coherence_score4 = calc_coherence_score(original_responses, generated_response1[0])\n",
    "print(coherence_score)\n",
    "print(coherence_score4)"
   ]
  },
  {
   "cell_type": "code",
   "execution_count": 7,
   "metadata": {},
   "outputs": [],
   "source": [
    "def calc_scores(seeker_post, original_post, response_post):\n",
    "    edit_score = calc_rewards(seeker_post, original_post, response_post, _edit=True)\n",
    "    bleu_score = calc_rewards(seeker_post, original_post, response_post, _bleu=True)\n",
    "    distinct_score = calc_rewards(seeker_post, original_post, response_post, _distinct=True)\n",
    "    perplexity_score = calc_rewards(seeker_post, original_post, response_post, _perplexity=True)\n",
    "    empathy_score = calc_rewards(seeker_post, original_post, response_post, _empathy=True)\n",
    "    \n",
    "    return edit_score, bleu_score, distinct_score, perplexity_score, empathy_score"
   ]
  },
  {
   "cell_type": "code",
   "execution_count": 9,
   "metadata": {},
   "outputs": [
    {
     "name": "stdout",
     "output_type": "stream",
     "text": [
      "edit_score:  0.49999\n",
      "bleu_score:  0.1395078348258848\n",
      "distinct_score:  10.954535454545455\n",
      "perplexity_score:  0.4220868036122937\n",
      "empathy_score:  0.49999\n",
      "coherence_score:  0.5360442399978638\n"
     ]
    }
   ],
   "source": [
    "\n",
    "original_posts = [\"I don't feel so great today, I need a friend to talk to.\" ]\n",
    "original_responses = [\"I'm here for you.\",]\n",
    "generated_response = [\"I am here for you. Let's talk about what's been on your mind and see how we can make you feel better.\"]\n",
    "\n",
    "x = calc_scores(original_posts, original_responses, generated_response)\n",
    "coherence_score = calc_coherence_score(original_responses, generated_response[0])\n",
    "print('edit_score: ', x[0])\n",
    "print('bleu_score: ', x[1])\n",
    "print('distinct_score: ', x[2])\n",
    "print('perplexity_score: ', x[3])\n",
    "print('empathy_score: ', x[5])\n",
    "print('coherence_score: ', coherence_score)"
   ]
  }
 ],
 "metadata": {
  "kernelspec": {
   "display_name": "m1",
   "language": "python",
   "name": "python3"
  },
  "language_info": {
   "codemirror_mode": {
    "name": "ipython",
    "version": 3
   },
   "file_extension": ".py",
   "mimetype": "text/x-python",
   "name": "python",
   "nbconvert_exporter": "python",
   "pygments_lexer": "ipython3",
   "version": "3.8.16"
  },
  "orig_nbformat": 4
 },
 "nbformat": 4,
 "nbformat_minor": 2
}
